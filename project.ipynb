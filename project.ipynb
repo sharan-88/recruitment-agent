{
  "nbformat": 4,
  "nbformat_minor": 0,
  "metadata": {
    "colab": {
      "provenance": [],
      "authorship_tag": "ABX9TyNsSViG6IJ0huMH53b8jNs0",
      "include_colab_link": true
    },
    "kernelspec": {
      "name": "python3",
      "display_name": "Python 3"
    },
    "language_info": {
      "name": "python"
    }
  },
  "cells": [
    {
      "cell_type": "markdown",
      "metadata": {
        "id": "view-in-github",
        "colab_type": "text"
      },
      "source": [
        "<a href=\"https://colab.research.google.com/github/sharan-88/recruitment-agent/blob/main/project.ipynb\" target=\"_parent\"><img src=\"https://colab.research.google.com/assets/colab-badge.svg\" alt=\"Open In Colab\"/></a>"
      ]
    },
    {
      "cell_type": "code",
      "execution_count": 195,
      "metadata": {
        "colab": {
          "base_uri": "https://localhost:8080/"
        },
        "id": "UnxemIHVAO56",
        "outputId": "74be97b9-de42-4af1-fbb1-c17d246fe43e"
      },
      "outputs": [
        {
          "output_type": "stream",
          "name": "stdout",
          "text": [
            "Requirement already satisfied: langchain in /usr/local/lib/python3.11/dist-packages (0.3.27)\n",
            "Requirement already satisfied: langchain_core in /usr/local/lib/python3.11/dist-packages (0.3.72)\n",
            "Requirement already satisfied: langchain_community in /usr/local/lib/python3.11/dist-packages (0.3.27)\n",
            "Requirement already satisfied: langgraph in /usr/local/lib/python3.11/dist-packages (0.6.2)\n",
            "Requirement already satisfied: langchain-text-splitters<1.0.0,>=0.3.9 in /usr/local/lib/python3.11/dist-packages (from langchain) (0.3.9)\n",
            "Requirement already satisfied: langsmith>=0.1.17 in /usr/local/lib/python3.11/dist-packages (from langchain) (0.4.8)\n",
            "Requirement already satisfied: pydantic<3.0.0,>=2.7.4 in /usr/local/lib/python3.11/dist-packages (from langchain) (2.11.7)\n",
            "Requirement already satisfied: SQLAlchemy<3,>=1.4 in /usr/local/lib/python3.11/dist-packages (from langchain) (2.0.41)\n",
            "Requirement already satisfied: requests<3,>=2 in /usr/local/lib/python3.11/dist-packages (from langchain) (2.32.3)\n",
            "Requirement already satisfied: PyYAML>=5.3 in /usr/local/lib/python3.11/dist-packages (from langchain) (6.0.2)\n",
            "Requirement already satisfied: tenacity!=8.4.0,<10.0.0,>=8.1.0 in /usr/local/lib/python3.11/dist-packages (from langchain_core) (8.5.0)\n",
            "Requirement already satisfied: jsonpatch<2.0,>=1.33 in /usr/local/lib/python3.11/dist-packages (from langchain_core) (1.33)\n",
            "Requirement already satisfied: typing-extensions>=4.7 in /usr/local/lib/python3.11/dist-packages (from langchain_core) (4.14.1)\n",
            "Requirement already satisfied: packaging>=23.2 in /usr/local/lib/python3.11/dist-packages (from langchain_core) (25.0)\n",
            "Requirement already satisfied: aiohttp<4.0.0,>=3.8.3 in /usr/local/lib/python3.11/dist-packages (from langchain_community) (3.12.14)\n",
            "Requirement already satisfied: dataclasses-json<0.7,>=0.5.7 in /usr/local/lib/python3.11/dist-packages (from langchain_community) (0.6.7)\n",
            "Requirement already satisfied: pydantic-settings<3.0.0,>=2.4.0 in /usr/local/lib/python3.11/dist-packages (from langchain_community) (2.10.1)\n",
            "Requirement already satisfied: httpx-sse<1.0.0,>=0.4.0 in /usr/local/lib/python3.11/dist-packages (from langchain_community) (0.4.1)\n",
            "Requirement already satisfied: numpy>=1.26.2 in /usr/local/lib/python3.11/dist-packages (from langchain_community) (2.0.2)\n",
            "Requirement already satisfied: langgraph-checkpoint<3.0.0,>=2.1.0 in /usr/local/lib/python3.11/dist-packages (from langgraph) (2.1.1)\n",
            "Requirement already satisfied: langgraph-prebuilt<0.7.0,>=0.6.0 in /usr/local/lib/python3.11/dist-packages (from langgraph) (0.6.2)\n",
            "Requirement already satisfied: langgraph-sdk<0.3.0,>=0.2.0 in /usr/local/lib/python3.11/dist-packages (from langgraph) (0.2.0)\n",
            "Requirement already satisfied: xxhash>=3.5.0 in /usr/local/lib/python3.11/dist-packages (from langgraph) (3.5.0)\n",
            "Requirement already satisfied: aiohappyeyeballs>=2.5.0 in /usr/local/lib/python3.11/dist-packages (from aiohttp<4.0.0,>=3.8.3->langchain_community) (2.6.1)\n",
            "Requirement already satisfied: aiosignal>=1.4.0 in /usr/local/lib/python3.11/dist-packages (from aiohttp<4.0.0,>=3.8.3->langchain_community) (1.4.0)\n",
            "Requirement already satisfied: attrs>=17.3.0 in /usr/local/lib/python3.11/dist-packages (from aiohttp<4.0.0,>=3.8.3->langchain_community) (25.3.0)\n",
            "Requirement already satisfied: frozenlist>=1.1.1 in /usr/local/lib/python3.11/dist-packages (from aiohttp<4.0.0,>=3.8.3->langchain_community) (1.7.0)\n",
            "Requirement already satisfied: multidict<7.0,>=4.5 in /usr/local/lib/python3.11/dist-packages (from aiohttp<4.0.0,>=3.8.3->langchain_community) (6.6.3)\n",
            "Requirement already satisfied: propcache>=0.2.0 in /usr/local/lib/python3.11/dist-packages (from aiohttp<4.0.0,>=3.8.3->langchain_community) (0.3.2)\n",
            "Requirement already satisfied: yarl<2.0,>=1.17.0 in /usr/local/lib/python3.11/dist-packages (from aiohttp<4.0.0,>=3.8.3->langchain_community) (1.20.1)\n",
            "Requirement already satisfied: marshmallow<4.0.0,>=3.18.0 in /usr/local/lib/python3.11/dist-packages (from dataclasses-json<0.7,>=0.5.7->langchain_community) (3.26.1)\n",
            "Requirement already satisfied: typing-inspect<1,>=0.4.0 in /usr/local/lib/python3.11/dist-packages (from dataclasses-json<0.7,>=0.5.7->langchain_community) (0.9.0)\n",
            "Requirement already satisfied: jsonpointer>=1.9 in /usr/local/lib/python3.11/dist-packages (from jsonpatch<2.0,>=1.33->langchain_core) (3.0.0)\n",
            "Requirement already satisfied: ormsgpack>=1.10.0 in /usr/local/lib/python3.11/dist-packages (from langgraph-checkpoint<3.0.0,>=2.1.0->langgraph) (1.10.0)\n",
            "Requirement already satisfied: httpx>=0.25.2 in /usr/local/lib/python3.11/dist-packages (from langgraph-sdk<0.3.0,>=0.2.0->langgraph) (0.28.1)\n",
            "Requirement already satisfied: orjson>=3.10.1 in /usr/local/lib/python3.11/dist-packages (from langgraph-sdk<0.3.0,>=0.2.0->langgraph) (3.11.1)\n",
            "Requirement already satisfied: requests-toolbelt<2.0.0,>=1.0.0 in /usr/local/lib/python3.11/dist-packages (from langsmith>=0.1.17->langchain) (1.0.0)\n",
            "Requirement already satisfied: zstandard<0.24.0,>=0.23.0 in /usr/local/lib/python3.11/dist-packages (from langsmith>=0.1.17->langchain) (0.23.0)\n",
            "Requirement already satisfied: annotated-types>=0.6.0 in /usr/local/lib/python3.11/dist-packages (from pydantic<3.0.0,>=2.7.4->langchain) (0.7.0)\n",
            "Requirement already satisfied: pydantic-core==2.33.2 in /usr/local/lib/python3.11/dist-packages (from pydantic<3.0.0,>=2.7.4->langchain) (2.33.2)\n",
            "Requirement already satisfied: typing-inspection>=0.4.0 in /usr/local/lib/python3.11/dist-packages (from pydantic<3.0.0,>=2.7.4->langchain) (0.4.1)\n",
            "Requirement already satisfied: python-dotenv>=0.21.0 in /usr/local/lib/python3.11/dist-packages (from pydantic-settings<3.0.0,>=2.4.0->langchain_community) (1.1.1)\n",
            "Requirement already satisfied: charset-normalizer<4,>=2 in /usr/local/lib/python3.11/dist-packages (from requests<3,>=2->langchain) (3.4.2)\n",
            "Requirement already satisfied: idna<4,>=2.5 in /usr/local/lib/python3.11/dist-packages (from requests<3,>=2->langchain) (3.10)\n",
            "Requirement already satisfied: urllib3<3,>=1.21.1 in /usr/local/lib/python3.11/dist-packages (from requests<3,>=2->langchain) (2.5.0)\n",
            "Requirement already satisfied: certifi>=2017.4.17 in /usr/local/lib/python3.11/dist-packages (from requests<3,>=2->langchain) (2025.7.14)\n",
            "Requirement already satisfied: greenlet>=1 in /usr/local/lib/python3.11/dist-packages (from SQLAlchemy<3,>=1.4->langchain) (3.2.3)\n",
            "Requirement already satisfied: anyio in /usr/local/lib/python3.11/dist-packages (from httpx>=0.25.2->langgraph-sdk<0.3.0,>=0.2.0->langgraph) (4.9.0)\n",
            "Requirement already satisfied: httpcore==1.* in /usr/local/lib/python3.11/dist-packages (from httpx>=0.25.2->langgraph-sdk<0.3.0,>=0.2.0->langgraph) (1.0.9)\n",
            "Requirement already satisfied: h11>=0.16 in /usr/local/lib/python3.11/dist-packages (from httpcore==1.*->httpx>=0.25.2->langgraph-sdk<0.3.0,>=0.2.0->langgraph) (0.16.0)\n",
            "Requirement already satisfied: mypy-extensions>=0.3.0 in /usr/local/lib/python3.11/dist-packages (from typing-inspect<1,>=0.4.0->dataclasses-json<0.7,>=0.5.7->langchain_community) (1.1.0)\n",
            "Requirement already satisfied: sniffio>=1.1 in /usr/local/lib/python3.11/dist-packages (from anyio->httpx>=0.25.2->langgraph-sdk<0.3.0,>=0.2.0->langgraph) (1.3.1)\n"
          ]
        }
      ],
      "source": [
        "!pip install langchain langchain_core langchain_community langgraph"
      ]
    },
    {
      "cell_type": "code",
      "source": [
        "# from goggle.colab import userdata\n",
        "# import os\n",
        "# os.environ['OPENAI_API_KEY']= userdata.get('OPENAI_API_KEY')"
      ],
      "metadata": {
        "id": "MUMEyamiAtxV"
      },
      "execution_count": 196,
      "outputs": []
    },
    {
      "cell_type": "code",
      "source": [
        "from langchain_core.language_models import LLM\n",
        "from langchain_core.pydantic_v1 import root_validator\n",
        "from typing import Optional, List\n",
        "import httpx\n",
        "\n",
        "\n",
        "class GorqLLM(LLM):\n",
        "    api_key: str\n",
        "    model: str = \"llama3-70b-8192\"\n",
        "    base_url: str = \"https://api.groq.com/openai/v1\"\n",
        "    temperature: float = 0.7\n",
        "\n",
        "    @property\n",
        "    def _llm_type(self) -> str:\n",
        "        return \"gorq\"\n",
        "\n",
        "    @root_validator(pre=True)\n",
        "    def validate_fields(cls, values):\n",
        "        if \"api_key\" not in values or not values[\"api_key\"]:\n",
        "            raise ValueError(\"api_key is required for GorqLLM.\")\n",
        "        return values\n",
        "\n",
        "    def _call(self, prompt: str, stop: Optional[List[str]] = None) -> str:\n",
        "        headers = {\n",
        "            \"Authorization\": f\"Bearer {self.api_key}\",\n",
        "            \"Content-Type\": \"application/json\"\n",
        "        }\n",
        "\n",
        "        payload = {\n",
        "            \"model\": self.model,\n",
        "            \"messages\": [{\"role\": \"user\", \"content\": prompt}],\n",
        "            \"temperature\": self.temperature\n",
        "        }\n",
        "\n",
        "        if stop:\n",
        "            payload[\"stop\"] = stop\n",
        "\n",
        "        response = httpx.post(\n",
        "            f\"{self.base_url}/chat/completions\",\n",
        "            headers=headers,\n",
        "            json=payload\n",
        "        )\n",
        "        response.raise_for_status()\n",
        "        return response.json()[\"choices\"][0][\"message\"][\"content\"]\n"
      ],
      "metadata": {
        "id": "eZgyICieExFq"
      },
      "execution_count": 197,
      "outputs": []
    },
    {
      "cell_type": "code",
      "source": [
        "llm = GorqLLM(api_key=\"gsk_Kreo3cAkdE4FQdEQtxizWGdyb3FYcrpJwcRQxdAhIjlJvzAc8DT222\" )"
      ],
      "metadata": {
        "id": "-OT0dnN-CYT0"
      },
      "execution_count": 198,
      "outputs": []
    },
    {
      "cell_type": "code",
      "source": [
        "print(llm.invoke(\"Tell me a joke.\"))"
      ],
      "metadata": {
        "colab": {
          "base_uri": "https://localhost:8080/"
        },
        "id": "OWelDC-2Dt1h",
        "outputId": "a051007b-beaa-4439-b7b9-2b2d0da62706"
      },
      "execution_count": 199,
      "outputs": [
        {
          "output_type": "stream",
          "name": "stdout",
          "text": [
            "Why couldn't the bicycle stand up by itself?\n",
            "\n",
            "Because it was two-tired!\n"
          ]
        }
      ]
    },
    {
      "cell_type": "code",
      "source": [
        "from typing_extensions import TypedDict\n",
        "from typing import Annotated\n",
        "class state(TypedDict):\n",
        "  application:Annotated[str,\"allow_multiple\"]\n",
        "  experience_level:str\n",
        "  skill:str\n",
        "  response:str"
      ],
      "metadata": {
        "id": "KZ5ONch1F4_W"
      },
      "execution_count": 200,
      "outputs": []
    },
    {
      "cell_type": "code",
      "source": [
        "from langgraph.graph import StateGraph\n",
        "workflow= StateGraph(state)"
      ],
      "metadata": {
        "id": "KHBa7VFFGbX1"
      },
      "execution_count": 201,
      "outputs": []
    },
    {
      "cell_type": "code",
      "source": [
        "from langchain_core.prompts import ChatPromptTemplate\n"
      ],
      "metadata": {
        "id": "CHh-23MyHV1d"
      },
      "execution_count": 202,
      "outputs": []
    },
    {
      "cell_type": "code",
      "source": [
        "def catergorize_experience(state:state)->state:\n",
        "  print(\"categorizing experience level :\")\n",
        "  prompt=ChatPromptTemplate.from_template(\n",
        "      \"based on the following job application ,categorize the candidate as 'entery-level', 'mid-level',or 'senior-level'\"\n",
        "      \"application:{application}\")\n",
        "  chain= prompt |llm\n",
        "  experience_level=chain.invoke({\"application\":state[\"application\"]})\n",
        "  print(experience_level)\n",
        "  state[\"experience_level\"]=experience_level\n",
        "  return state\n",
        "\n",
        "def assess_skills(state:state)->state:\n",
        "  print(\"assessing skills :\")\n",
        "  prompt = ChatPromptTemplate.from_template(\n",
        "      \"based on the  job application for the python developer  ,assess the candidate the skillset respond with either 'Match' or 'NoMatch' in single world\"\n",
        "      \"Application:{application}\")\n",
        "  chain=prompt|llm\n",
        "  skill_match = chain.invoke({\"application\":state[\"application\"]})\n",
        "  print(f\"skills Match :{skill_match}\")\n",
        "  state[\"skill\"]= skill_match\n",
        "  return state\n",
        "\n"
      ],
      "metadata": {
        "id": "6hjVdzNLG1GG"
      },
      "execution_count": 203,
      "outputs": []
    },
    {
      "cell_type": "code",
      "source": [
        "def schedule_hr_interview(state:state)->state:\n",
        "  print(\"schedling hr interview \")\n",
        "  state[\"response\"] = \"Candidate has been scheduled for an interview\"\n",
        "  return state\n",
        "def esculate_to_recruiter(state:state)->state:\n",
        "  print(\"esculate _to_ the recuriter\")\n",
        "  state[\"response\"]=\"esculate _to_ the recuriter has he has senior experience but doesnt match with job skill s\"\n",
        "  return state\n",
        "def reject_application(state:state)->state:\n",
        "  print(\"rejecting a applicant\")\n",
        "  state[\"response\"]=\"rejecting a applicant\"\n",
        "  return state\n",
        "\n"
      ],
      "metadata": {
        "id": "-lld8cleLkPc"
      },
      "execution_count": 204,
      "outputs": []
    },
    {
      "cell_type": "code",
      "source": [
        "workflow.add_node(\"catergorize_experience\",catergorize_experience)\n",
        "workflow.add_node(\"assess_skills\",assess_skills)\n",
        "workflow.add_node(\"schedule_hr_interview\",schedule_hr_interview)\n",
        "workflow.add_node(\"esculate_to_recruiter\",esculate_to_recruiter)\n",
        "workflow.add_node(\"reject_application\",reject_application)"
      ],
      "metadata": {
        "colab": {
          "base_uri": "https://localhost:8080/"
        },
        "id": "tG-ie2s8M2qm",
        "outputId": "ba4285f2-e19e-465b-b780-7c6d7921d970"
      },
      "execution_count": 205,
      "outputs": [
        {
          "output_type": "execute_result",
          "data": {
            "text/plain": [
              "<langgraph.graph.state.StateGraph at 0x7b7e4d410c10>"
            ]
          },
          "metadata": {},
          "execution_count": 205
        }
      ]
    },
    {
      "cell_type": "code",
      "source": [
        "def routing_finction(state:state)->str:\n",
        "  if  \"match\" in state[\"skill\"].lower() :\n",
        "    return \"schedule_hr_interview\"\n",
        "  elif state[\"experience_level\"]==\"senior-level\" and \"nomatch\" in state[\"skill\"].lower():\n",
        "    return \"esculate_to_recruiter\"\n",
        "  else:\n",
        "    return \"reject_application\""
      ],
      "metadata": {
        "id": "Wax1IpyvOLkP"
      },
      "execution_count": 206,
      "outputs": []
    },
    {
      "cell_type": "code",
      "source": [
        "workflow.add_edge(\"catergorize_experience\", \"assess_skills\")\n",
        "workflow.add_conditional_edges(\n",
        "    \"assess_skills\",\n",
        "    routing_finction,\n",
        "    {\n",
        "        \"schedule_hr_interview\": \"schedule_hr_interview\",\n",
        "        \"esculate_to_recruiter\": \"esculate_to_recruiter\",\n",
        "        \"reject_application\": \"reject_application\",\n",
        "    },\n",
        ")"
      ],
      "metadata": {
        "colab": {
          "base_uri": "https://localhost:8080/"
        },
        "id": "UZlAsPj8NSvC",
        "outputId": "f297d525-53f9-4008-910c-3e2d33bb4758"
      },
      "execution_count": 207,
      "outputs": [
        {
          "output_type": "execute_result",
          "data": {
            "text/plain": [
              "<langgraph.graph.state.StateGraph at 0x7b7e4d410c10>"
            ]
          },
          "metadata": {},
          "execution_count": 207
        }
      ]
    },
    {
      "cell_type": "code",
      "source": [
        "\n",
        "from langgraph.graph import  START, END"
      ],
      "metadata": {
        "id": "l1VseFSQN3Vv"
      },
      "execution_count": 208,
      "outputs": []
    },
    {
      "cell_type": "code",
      "source": [
        "workflow.add_edge(START,\"catergorize_experience\")"
      ],
      "metadata": {
        "colab": {
          "base_uri": "https://localhost:8080/"
        },
        "id": "y27gBGk-NnaQ",
        "outputId": "88fd811a-aa13-4166-cd61-cadd4ed1564a"
      },
      "execution_count": 209,
      "outputs": [
        {
          "output_type": "execute_result",
          "data": {
            "text/plain": [
              "<langgraph.graph.state.StateGraph at 0x7b7e4d410c10>"
            ]
          },
          "metadata": {},
          "execution_count": 209
        }
      ]
    },
    {
      "cell_type": "code",
      "source": [
        "workflow.add_edge(\"esculate_to_recruiter\",END)\n",
        "workflow.add_edge(\"reject_application\",END)\n",
        "workflow.add_edge(\"schedule_hr_interview\",END)"
      ],
      "metadata": {
        "colab": {
          "base_uri": "https://localhost:8080/"
        },
        "id": "pNLBIv07Ob8s",
        "outputId": "de2f244f-ea5e-4f21-9702-637715706f5a"
      },
      "execution_count": 210,
      "outputs": [
        {
          "output_type": "execute_result",
          "data": {
            "text/plain": [
              "<langgraph.graph.state.StateGraph at 0x7b7e4d410c10>"
            ]
          },
          "metadata": {},
          "execution_count": 210
        }
      ]
    },
    {
      "cell_type": "code",
      "source": [
        "app = workflow.compile()"
      ],
      "metadata": {
        "id": "AucDq-WnO_3r"
      },
      "execution_count": 211,
      "outputs": []
    },
    {
      "cell_type": "code",
      "source": [
        "from IPython.display import Image, display\n",
        "\n",
        "try:\n",
        "    display(Image(app.get_graph().draw_mermaid_png()))\n",
        "except Exception:\n",
        "    # This requires some extra dependencies and is optional\n",
        "    print(\"somethig went wrong\")\n",
        "    print(\"make sure that you compile before you viszulize this \")\n",
        "    pass"
      ],
      "metadata": {
        "colab": {
          "base_uri": "https://localhost:8080/",
          "height": 449
        },
        "id": "qXjtaRaKOoYX",
        "outputId": "c20a2d4e-b5e3-42e0-fc61-882d4bc07af5"
      },
      "execution_count": 212,
      "outputs": [
        {
          "output_type": "display_data",
          "data": {
            "image/png": "[encoded data removed]",
            "text/plain": [
              "<IPython.core.display.Image object>"
            ]
          },
          "metadata": {}
        }
      ]
    },
    {
      "cell_type": "code",
      "source": [
        "def run_candidate_screening(application:str):\n",
        "  results = app.invoke({\"application\":application})\n",
        "  return {\n",
        "      \"experience_level\":results[\"experience_level\"],\n",
        "      \"skill\":results[\"skill\"],\n",
        "      \"response\":results[\"response\"]\n",
        "  }\n"
      ],
      "metadata": {
        "id": "wy8odXBYPVt3"
      },
      "execution_count": 213,
      "outputs": []
    },
    {
      "cell_type": "code",
      "source": [
        "in_return = run_candidate_screening(\"i am a java developer with 1 year of experience \")"
      ],
      "metadata": {
        "colab": {
          "base_uri": "https://localhost:8080/"
        },
        "id": "lG32jn8oP65T",
        "outputId": "20eb0145-43a2-4f6d-ff75-5fcdc1ece588"
      },
      "execution_count": 214,
      "outputs": [
        {
          "output_type": "stream",
          "name": "stdout",
          "text": [
            "categorizing experience level :\n",
            "Based on the job application, I would categorize the candidate as 'entry-level'.\n",
            "\n",
            "The candidate has only 1 year of experience, which is a relatively short period of time in the industry. Typically, entry-level positions require little to no experience, and the candidate is expected to learn and grow in the role. In this case, the candidate has some experience, but it's still limited, which suggests they are still in the early stages of their career and would benefit from guidance and mentorship.\n",
            "assessing skills :\n",
            "skills Match :NoMatch\n",
            "schedling hr interview \n"
          ]
        }
      ]
    },
    {
      "cell_type": "code",
      "source": [
        "candidate01 = run_candidate_screening(\"i am a python developer with 10 year of experience \")"
      ],
      "metadata": {
        "colab": {
          "base_uri": "https://localhost:8080/"
        },
        "id": "HZtGHAJ_Vqyh",
        "outputId": "4aaf41a1-775b-41c9-b2c8-f33e74141ef9"
      },
      "execution_count": 216,
      "outputs": [
        {
          "output_type": "stream",
          "name": "stdout",
          "text": [
            "categorizing experience level :\n",
            "Based on the job application, I would categorize the candidate as 'senior-level'.\n",
            "\n",
            "Here's why:\n",
            "\n",
            "* 10 years of experience is a significant amount of time, indicating that the candidate has had a long and established career as a Python developer.\n",
            "* With a decade of experience, the candidate is likely to have developed a deep understanding of Python and its ecosystem, as well as a strong track record of delivering projects and solving complex problems.\n",
            "* Senior-level candidates typically have a high level of expertise, a strong portfolio of work, and a leadership or mentorship role in their previous organizations. While the application doesn't explicitly mention these qualities, the 10-year experience suggests that the candidate has likely developed these skills over time.\n",
            "\n",
            "In contrast, entry-level candidates typically have little to no experience (0-2 years), while mid-level candidates have some experience (2-5 years) but may not have reached the same level of expertise as a senior-level candidate.\n",
            "assessing skills :\n",
            "skills Match :Match\n",
            "schedling hr interview \n"
          ]
        }
      ]
    }
  ]
}